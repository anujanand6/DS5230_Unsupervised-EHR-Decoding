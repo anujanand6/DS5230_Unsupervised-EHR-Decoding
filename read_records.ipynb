{
 "cells": [
  {
   "cell_type": "code",
   "execution_count": null,
   "metadata": {},
   "outputs": [],
   "source": [
    "import xmltodict\n",
    "import re\n",
    "import os"
   ]
  },
  {
   "cell_type": "code",
   "execution_count": null,
   "metadata": {},
   "outputs": [],
   "source": [
    "def open_ehr(path):\n",
    "    with open(path, 'r') as file:\n",
    "        doc=file.read()\n",
    "    doc_main = xmltodict.parse(doc)['PatientMatching']\n",
    "    doc_txt = doc_main['TEXT']\n",
    "    doc_tags = doc_main['TAGS']\n",
    "    return doc_txt, doc_tags"
   ]
  },
  {
   "cell_type": "code",
   "execution_count": null,
   "metadata": {},
   "outputs": [],
   "source": [
    "def create_tags_dict(xml_tags):\n",
    "    tag_dict = {}\n",
    "    for name in xml_tags:\n",
    "        tag_dict[name] = xml_tags[name][\"@met\"]\n",
    "    return tag_dict"
   ]
  },
  {
   "cell_type": "code",
   "execution_count": null,
   "metadata": {},
   "outputs": [],
   "source": [
    "def clean_txt(xml_txt):\n",
    "    new_txt = re.sub(\"\\\\n\", \" \", xml_txt)\n",
    "    new_txt = re.sub(\"[\\s\\W]{4,}|\\_+\", \" \", new_txt)\n",
    "    return new_txt"
   ]
  },
  {
   "cell_type": "code",
   "execution_count": null,
   "metadata": {
    "tags": []
   },
   "outputs": [],
   "source": [
    "train_records = {}\n",
    "\n",
    "directory = 'train/'\n",
    "for filename in os.listdir(directory):\n",
    "    if filename.endswith('.xml'):\n",
    "        id_name = filename[0:3]\n",
    "        xml_txt, xml_tags = open_ehr(os.path.join(directory,filename))\n",
    "        tags_dict = create_tags_dict(xml_tags)\n",
    "        clean_main = clean_txt(xml_txt)\n",
    "        train_records[id_name] = {'tags':tags_dict,\n",
    "                           'text':clean_main}"
   ]
  }
 ],
 "metadata": {
  "kernelspec": {
   "name": "python3",
   "display_name": "Python 3.8.1 64-bit ('usml')",
   "metadata": {
    "interpreter": {
     "hash": "bac24a480cf10fadd59f0f8aa2bb6c02d4913d6838fc32fffd95653c405292c9"
    }
   }
  },
  "language_info": {
   "codemirror_mode": {
    "name": "ipython",
    "version": 3
   },
   "file_extension": ".py",
   "mimetype": "text/x-python",
   "name": "python",
   "nbconvert_exporter": "python",
   "pygments_lexer": "ipython3",
   "version": "3.8.1-final"
  },
  "toc": {
   "base_numbering": 1,
   "nav_menu": {},
   "number_sections": true,
   "sideBar": true,
   "skip_h1_title": true,
   "title_cell": "Table of Contents",
   "title_sidebar": "Contents",
   "toc_cell": false,
   "toc_position": {},
   "toc_section_display": true,
   "toc_window_display": false
  }
 },
 "nbformat": 4,
 "nbformat_minor": 4
}